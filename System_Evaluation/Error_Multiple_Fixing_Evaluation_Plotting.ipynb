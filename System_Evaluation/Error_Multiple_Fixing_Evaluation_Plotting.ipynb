{
 "cells": [
  {
   "cell_type": "code",
   "execution_count": null,
   "metadata": {},
   "outputs": [],
   "source": [
    "import sys\n",
    "sys.path.insert(0,r'/Users/Shared/c/CodeRepository/Formatting-Error-Correction/')\n",
    "import ast\n",
    "import pandas as pd\n",
    "import matplotlib.pyplot as plt\n",
    "import matplotlib as mpl\n",
    "import numpy as np\n",
    "import seaborn as sns\n",
    "from utils.System_Evaluation_Metrics import precision_at_k, mrr\n",
    "sns.set_theme()\n",
    "sns.set_style(\"whitegrid\",{'axes.grid' : False})"
   ]
  },
  {
   "cell_type": "code",
   "execution_count": null,
   "metadata": {},
   "outputs": [],
   "source": [
    "multipleFixingStats = pd.read_excel('Error_Multiple_Fixing_Scenario' + '.xlsx')\n",
    "display(multipleFixingStats)"
   ]
  },
  {
   "cell_type": "code",
   "execution_count": null,
   "metadata": {},
   "outputs": [],
   "source": [
    "numSuggFixIter1 = dict(multipleFixingStats['Number of Suggested Fixes'].value_counts())\n",
    "print(numSuggFixIter1)\n",
    "plt.figure(figsize = [8,6])\n",
    "plt.bar(numSuggFixIter1.keys(), numSuggFixIter1.values(), width = 0.5)\n",
    "plt.title('Fixing Iteration 1 -- Number of Suggested Fixes')\n",
    "plt.xlabel('Number of Suggested Fixes')\n",
    "plt.ylabel('Number of Appearances')\n",
    "plt.yticks([0,1,2,3,4,5,6,7,8,9,10]);"
   ]
  },
  {
   "cell_type": "code",
   "execution_count": null,
   "metadata": {},
   "outputs": [],
   "source": [
    "numSuggFixIter2 = dict(multipleFixingStats['Number of suggested fixes(2)'].value_counts())\n",
    "print(numSuggFixIter2)\n",
    "plt.figure(figsize = [8,6])\n",
    "plt.bar(numSuggFixIter2.keys(), numSuggFixIter2.values(), width = 0.4)\n",
    "plt.title('Fixing Iteration 2 -- Number of Suggested Fixes')\n",
    "plt.xlabel('Number of Suggested Fixes')\n",
    "plt.ylabel('Number of Appearances')\n",
    "plt.xticks([1,2])\n",
    "plt.yticks([0,5,10,15,20]);"
   ]
  },
  {
   "cell_type": "code",
   "execution_count": null,
   "metadata": {},
   "outputs": [],
   "source": [
    "perforFixLastRun = dict(multipleFixingStats['Performed Fix on the Last Run?'].value_counts())\n",
    "print(perforFixLastRun)\n",
    "plt.figure(figsize = [8,6])\n",
    "plt.bar(perforFixLastRun.keys(), perforFixLastRun.values(), width = 0.4)\n",
    "plt.title('Performed Fix on the Correct File?')\n",
    "plt.xlabel('Answer')\n",
    "plt.ylabel('Number of Appearances')\n",
    "plt.yticks([0,5,10,15,20]);\n"
   ]
  }
 ],
 "metadata": {
  "kernelspec": {
   "display_name": "Python 3",
   "language": "python",
   "name": "python3"
  },
  "language_info": {
   "codemirror_mode": {
    "name": "ipython",
    "version": 3
   },
   "file_extension": ".py",
   "mimetype": "text/x-python",
   "name": "python",
   "nbconvert_exporter": "python",
   "pygments_lexer": "ipython3",
   "version": "3.8.10"
  },
  "orig_nbformat": 4
 },
 "nbformat": 4,
 "nbformat_minor": 2
}
