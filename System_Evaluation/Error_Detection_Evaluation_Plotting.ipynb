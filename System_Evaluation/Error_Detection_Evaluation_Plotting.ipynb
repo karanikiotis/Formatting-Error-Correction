{
 "cells": [
  {
   "cell_type": "code",
   "execution_count": null,
   "metadata": {},
   "outputs": [],
   "source": [
    "import sys\n",
    "sys.path.insert(0,r'/Users/Shared/c/CodeRepository/Formatting-Error-Correction/')\n",
    "import ast\n",
    "import pandas as pd\n",
    "import matplotlib.pyplot as plt\n",
    "import matplotlib as mpl\n",
    "import numpy as np\n",
    "import seaborn as sns\n",
    "from utils.System_Evaluation_Metrics import precision_at_k, mrr\n",
    "sns.set_theme()\n",
    "sns.set_style(\"whitegrid\",{'axes.grid' : False})"
   ]
  },
  {
   "cell_type": "code",
   "execution_count": null,
   "metadata": {},
   "outputs": [],
   "source": [
    "print('Enter name of excel file:')\n",
    "nameExcel = input()"
   ]
  },
  {
   "cell_type": "code",
   "execution_count": null,
   "metadata": {},
   "outputs": [],
   "source": [
    "errorDetectionStats = pd.read_excel(nameExcel + '.xlsx')\n",
    "display(errorDetectionStats)"
   ]
  },
  {
   "cell_type": "code",
   "execution_count": null,
   "metadata": {},
   "outputs": [],
   "source": [
    "\n",
    "errorDetectionStats['File Name'] = errorDetectionStats['File Name'].astype(str)\n",
    "#errorDetectionStats['File Name'] = errorDetectionStats['File Name'] + '.txt'\n",
    "errorDetectionStats['File Length'] = errorDetectionStats['File Length'].astype(int)\n",
    "for i in range(errorDetectionStats.shape[0]):\n",
    "    errorDetectionStats['Detected Error Positions'][i] = ast.literal_eval(errorDetectionStats.loc[i,'Detected Error Positions'])\n",
    "    errorDetectionStats['Error Probability'][i] = ast.literal_eval(errorDetectionStats.loc[i,'Error Probability'])\n",
    "\n",
    "# errorPositions = pd.read_excel('/Users/Shared/c/CodeRepository/Data/out.xlsx', names = ['File Name', 'Error Position'])\n",
    "# errorPositions['File Name'] = errorPositions['File Name'].astype(str)\n",
    "# errorPositions['File Name'] = errorPositions['File Name'] + '.txt'\n",
    "# errorPositions['Error Position'] = errorPositions['Error Position'] - 1\n",
    "\n",
    "# errorDetectionStats = errorDetectionStats.merge(errorPositions, on = ['File Name'], how = 'inner')\n",
    "\n",
    "positionIdx = []\n",
    "for i, pos in enumerate(errorDetectionStats['Error Position']):\n",
    "    currErrorPositions = list(errorDetectionStats.loc[i,'Detected Error Positions'])\n",
    "    idx = currErrorPositions.index(pos) if pos in currErrorPositions else -1\n",
    "    positionIdx.append(idx)\n",
    "\n",
    "errorDetectionStats['PositionIdx'] = positionIdx"
   ]
  },
  {
   "cell_type": "code",
   "execution_count": null,
   "metadata": {},
   "outputs": [],
   "source": [
    "display(errorDetectionStats)"
   ]
  },
  {
   "cell_type": "code",
   "execution_count": null,
   "metadata": {},
   "outputs": [],
   "source": [
    "x = dict(errorDetectionStats['PositionIdx'].value_counts())\n",
    "print(x)\n",
    "detectedErrPerRank = {}\n",
    "for key,value in zip(list(x.keys()),list(x.values())):\n",
    "    detectedErrPerRank.update({key+1:value})\n",
    "print(detectedErrPerRank)\n"
   ]
  },
  {
   "cell_type": "code",
   "execution_count": null,
   "metadata": {},
   "outputs": [],
   "source": [
    "plt.figure(figsize = [8,6])\n",
    "plt.bar(detectedErrPerRank.keys(), detectedErrPerRank.values())\n",
    "plt.title('Rank of Actual Error Position per #Files' )\n",
    "plt.xticks([0,1,2,3,4,5,6,7,8,9,10])\n",
    "plt.yticks([0,50,100,150,200,250,300,350,400,450,500])\n",
    "plt.xlabel('Rank of Actual Error Positions')\n",
    "plt.ylabel('Number of Files');"
   ]
  },
  {
   "cell_type": "code",
   "execution_count": null,
   "metadata": {},
   "outputs": [],
   "source": [
    "print(detectedErrPerRank)\n",
    "detectedErrTop3 = {}\n",
    "sumPosAbove3 = 0\n",
    "for key,value in zip(list(detectedErrPerRank.keys()),list(detectedErrPerRank.values())):\n",
    "    if(key<=3 and key>0):\n",
    "        detectedErrTop3.update({key:value})\n",
    "    else:\n",
    "        sumPosAbove3+=value\n",
    "print(detectedErrTop3)\n",
    "print(sumPosAbove3)\n",
    "detectedErrTop3.update({4:sumPosAbove3 + 3})\n",
    "print(detectedErrTop3)"
   ]
  },
  {
   "cell_type": "code",
   "execution_count": null,
   "metadata": {},
   "outputs": [],
   "source": [
    "plt.figure(figsize = [8,6])\n",
    "plt.bar(detectedErrTop3.keys(), detectedErrTop3.values(),width = 0.6)\n",
    "plt.title('Rank (1-3) of Actual Error Position per #Files' )\n",
    "plt.xticks([1,2,3,4],['1','2','3','>=4'])\n",
    "plt.yticks([0,50,100,150,200,250,300,350,400,450,500])\n",
    "plt.xlabel('Rank (1-3) of Actual Error Positions')\n",
    "plt.ylabel('Number of Files');"
   ]
  },
  {
   "cell_type": "code",
   "execution_count": null,
   "metadata": {},
   "outputs": [],
   "source": [
    "errPos = []\n",
    "temp = []\n",
    "for i in zip(errorDetectionStats['Detected Error Positions'], errorDetectionStats['Error Probability']):\n",
    "    for j in zip(i[0],i[1]):\n",
    "        temp.append(j)\n",
    "    errPos.append(temp)\n",
    "    temp = []\n",
    "actErrPos = list(errorDetectionStats['Error Position'])\n",
    "k = [1,3,5,10]"
   ]
  },
  {
   "cell_type": "code",
   "execution_count": null,
   "metadata": {},
   "outputs": [],
   "source": [
    "plt.figure(figsize = [8,6])\n",
    "thresholds = [0.75, 0.8, 0.85, 0.9, 0.95]\n",
    "for kVal in k:\n",
    "    prec = []\n",
    "    for thresh in thresholds:\n",
    "        prec.append(precision_at_k(actErrPos, errPos, kVal, thresh))\n",
    "    plt.plot(thresholds, prec)\n",
    "    plt.xticks(thresholds)\n",
    "    plt.yticks(np.arange(0, 1 , step = 0.05))\n",
    "    plt.xlabel('Threshold')\n",
    "    plt.ylabel('Precision')\n",
    "    plt.title('Precision @ K')\n",
    "    plt.legend(['Precision@1', 'Precision@3', 'Precision@5', 'Precision@10'])\n"
   ]
  },
  {
   "cell_type": "code",
   "execution_count": null,
   "metadata": {},
   "outputs": [],
   "source": [
    "plt.figure(figsize = [8,6])\n",
    "prec = []\n",
    "thresholds = [0.75, 0.8, 0.85, 0.9, 0.95]\n",
    "for thresh in thresholds:\n",
    "    prec.append(precision_at_k(actErrPos, errPos, k[0], thresh))\n",
    "\n",
    "plt.plot(thresholds, prec)\n",
    "plt.xticks(thresholds)\n",
    "plt.yticks(np.arange(0, 1 , step = 0.1))\n",
    "plt.xlabel('Threshold')\n",
    "plt.ylabel('Precision')\n",
    "plt.title('Precision@1')\n",
    "#plt.legend(['Precision@1', 'Precision@3', 'Precision@5', 'Precision@10'])"
   ]
  },
  {
   "cell_type": "code",
   "execution_count": null,
   "metadata": {},
   "outputs": [],
   "source": [
    "plt.figure(figsize = [8,6])\n",
    "prec = []\n",
    "thresholds = [0.75, 0.8, 0.85, 0.9, 0.95]\n",
    "for thresh in thresholds:\n",
    "    prec.append(precision_at_k(actErrPos, errPos, k[1], thresh))\n",
    "\n",
    "plt.plot(thresholds, prec)\n",
    "plt.xticks(thresholds)\n",
    "plt.yticks(np.arange(0, 1 , step = 0.1))\n",
    "plt.xlabel('Threshold')\n",
    "plt.ylabel('Precision')\n",
    "plt.title('Precision@3')\n",
    "#plt.legend(['Precision@1', 'Precision@3', 'Precision@5', 'Precision@10'"
   ]
  },
  {
   "cell_type": "code",
   "execution_count": null,
   "metadata": {},
   "outputs": [],
   "source": [
    "plt.figure(figsize = [8,6])\n",
    "prec = []\n",
    "thresholds = [0.75, 0.8, 0.85, 0.9, 0.95]\n",
    "for thresh in thresholds:\n",
    "    prec.append(precision_at_k(actErrPos, errPos, k[2], thresh))\n",
    "\n",
    "plt.plot(thresholds, prec)\n",
    "plt.xticks(thresholds)\n",
    "plt.yticks(np.arange(0, 1 , step = 0.1))\n",
    "plt.xlabel('Threshold')\n",
    "plt.ylabel('Precision')\n",
    "plt.title('Precision@5')\n",
    "#plt.legend(['Precision@1', 'Precision@3', 'Precision@5', 'Precision@10'"
   ]
  },
  {
   "cell_type": "code",
   "execution_count": null,
   "metadata": {},
   "outputs": [],
   "source": [
    "plt.figure(figsize = [8,6])\n",
    "prec = []\n",
    "thresholds = [0.75, 0.8, 0.85, 0.9, 0.95]\n",
    "for thresh in thresholds:\n",
    "    prec.append(precision_at_k(actErrPos, errPos, k[3], thresh))\n",
    "\n",
    "plt.plot(thresholds, prec)\n",
    "plt.xticks(thresholds)\n",
    "plt.yticks(np.arange(0, 1 , step = 0.1))\n",
    "plt.xlabel('Threshold')\n",
    "plt.ylabel('Precision')\n",
    "plt.title('Precision@10')\n",
    "#plt.legend(['Precision@1', 'Precision@3', 'Precision@5', 'Precision@10'"
   ]
  },
  {
   "cell_type": "code",
   "execution_count": null,
   "metadata": {},
   "outputs": [],
   "source": [
    "# MRR - Mean Reciprocal Rank\n",
    "print(f'Mean Reciprocal Rank equals to: {mrr(actErrPos, errPos)}')"
   ]
  }
 ],
 "metadata": {
  "kernelspec": {
   "display_name": "Python 3",
   "language": "python",
   "name": "python3"
  },
  "language_info": {
   "codemirror_mode": {
    "name": "ipython",
    "version": 3
   },
   "file_extension": ".py",
   "mimetype": "text/x-python",
   "name": "python",
   "nbconvert_exporter": "python",
   "pygments_lexer": "ipython3",
   "version": "3.8.10"
  },
  "orig_nbformat": 4,
  "vscode": {
   "interpreter": {
    "hash": "aee8b7b246df8f9039afb4144a1f6fd8d2ca17a180786b69acc140d282b71a49"
   }
  }
 },
 "nbformat": 4,
 "nbformat_minor": 2
}
