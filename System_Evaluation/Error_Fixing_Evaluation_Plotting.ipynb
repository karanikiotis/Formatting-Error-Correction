{
 "cells": [
  {
   "cell_type": "code",
   "execution_count": null,
   "metadata": {},
   "outputs": [],
   "source": [
    "import sys\n",
    "sys.path.insert(0,r'/Users/Shared/c/CodeRepository/Formatting-Error-Correction/')\n",
    "import ast\n",
    "import pandas as pd\n",
    "import matplotlib.pyplot as plt\n",
    "import matplotlib as mpl\n",
    "import numpy as np\n",
    "import seaborn as sns\n",
    "from utils.System_Evaluation_Metrics import precision_at_k, mrr\n",
    "sns.set_theme()\n",
    "sns.set_style(\"whitegrid\",{'axes.grid' : False})"
   ]
  },
  {
   "cell_type": "code",
   "execution_count": null,
   "metadata": {},
   "outputs": [],
   "source": [
    "def show_values_on_bars(axs, h_v=\"v\", space=0.4):\n",
    "    def _show_on_single_plot(ax):\n",
    "        if h_v == \"v\":\n",
    "            for p in ax.patches:\n",
    "                _x = p.get_x() + p.get_width() / 2\n",
    "                _y = p.get_y() + p.get_height()\n",
    "                value = int(p.get_height())\n",
    "                ax.text(_x, _y, value, ha=\"center\") \n",
    "        elif h_v == \"h\":\n",
    "            for p in ax.patches:\n",
    "                _x = p.get_x() + p.get_width() + float(space)\n",
    "                _y = p.get_y() + p.get_height()\n",
    "                value = int(p.get_width())\n",
    "                ax.text(_x, _y, value, ha=\"left\")\n",
    "\n",
    "    if isinstance(axs, np.ndarray):\n",
    "        for idx, ax in np.ndenumerate(axs):\n",
    "            _show_on_single_plot(ax)\n",
    "    else:\n",
    "        _show_on_single_plot(axs)"
   ]
  },
  {
   "cell_type": "code",
   "execution_count": null,
   "metadata": {},
   "outputs": [],
   "source": [
    "print('Enter name of excel file:')\n",
    "nameExcel = input()"
   ]
  },
  {
   "cell_type": "code",
   "execution_count": null,
   "metadata": {},
   "outputs": [],
   "source": [
    "errorFixingStats = pd.read_excel(nameExcel + '.xlsx')\n",
    "display(errorFixingStats)"
   ]
  },
  {
   "attachments": {},
   "cell_type": "markdown",
   "metadata": {},
   "source": [
    "#### 1. Kind of Error"
   ]
  },
  {
   "cell_type": "code",
   "execution_count": null,
   "metadata": {},
   "outputs": [],
   "source": [
    "kindOfError = dict(errorFixingStats['Kind of Fix ( D, A ,R)'].value_counts())\n",
    "kindOfError\n",
    "plt.figure(figsize = [8,6])\n",
    "plt.bar(kindOfError.keys(), kindOfError.values(), width = 0.4)\n",
    "plt.title('Type of Error per #Appearances')\n",
    "plt.xlabel('Type of Error')\n",
    "plt.xticks(list(kindOfError.keys()), ['Delete','Append','Replace'])\n",
    "plt.yticks([0,10,20,30,40,50,60,70,80,90])\n",
    "plt.ylabel('Number of Appearances');"
   ]
  },
  {
   "cell_type": "code",
   "execution_count": null,
   "metadata": {},
   "outputs": [],
   "source": [
    "kindOfError"
   ]
  },
  {
   "cell_type": "code",
   "execution_count": null,
   "metadata": {},
   "outputs": [],
   "source": [
    "fix = dict(errorFixingStats['Fix/No Fix'].value_counts())\n",
    "print(fix)\n",
    "plt.figure(figsize = [8,6])\n",
    "plt.bar(fix.keys(), fix.values(), width = 0.65)\n",
    "plt.title('Fix/No Fix')\n",
    "plt.xlabel('Answer')\n",
    "plt.xticks(list(fix.keys()), ['Yes','No'])\n",
    "plt.yticks([0,10,20,30,40,50,60,70,80,90])\n",
    "plt.ylabel('Number of Appearances');"
   ]
  },
  {
   "attachments": {},
   "cell_type": "markdown",
   "metadata": {},
   "source": [
    "#### 2. Best Score"
   ]
  },
  {
   "cell_type": "code",
   "execution_count": null,
   "metadata": {},
   "outputs": [],
   "source": [
    "numOfBestScore = dict(errorFixingStats['Does the correct fixed file has the best score?'].value_counts())\n",
    "numOfBestScore\n",
    "\n",
    "plt.figure(figsize = [8,6])\n",
    "plt.bar(numOfBestScore.keys(), numOfBestScore.values(), width = 0.4)\n",
    "plt.title('Does the fixed file have the best formation score across the suggested fixes?')\n",
    "plt.xlabel('Type of Error')\n",
    "plt.xticks(list(numOfBestScore.keys()), ['Yes','No','No Fix'])\n",
    "plt.yticks([0,10,20,30,40,50,60,70,80,90])\n",
    "plt.ylabel('Number of Appearances');"
   ]
  },
  {
   "cell_type": "code",
   "execution_count": null,
   "metadata": {},
   "outputs": [],
   "source": [
    "numOfSugg = dict(errorFixingStats['Total number of suggested fixed files'].value_counts())\n",
    "print(numOfSugg)\n",
    "plt.figure(figsize = [8,6])\n",
    "plt.bar(numOfSugg.keys(), numOfSugg.values(), width = 0.6)\n",
    "plt.title('#Suggested Fixes')\n",
    "plt.xlabel('Number of Suggested Fixes')\n",
    "plt.ylabel('Number of Appearances')\n",
    "plt.xticks(list(numOfSugg.keys()))\n",
    "plt.yticks([0,10,20,30,40,50,60,70,80,90]);\n"
   ]
  },
  {
   "cell_type": "code",
   "execution_count": null,
   "metadata": {},
   "outputs": [],
   "source": [
    "rankOfFix = dict(errorFixingStats['Rank of correct fixed file along fixes (according to score)'].value_counts())\n",
    "print(rankOfFix)\n",
    "plt.figure(figsize = [8,6])\n",
    "plt.bar(rankOfFix.keys(), rankOfFix.values(), width = 0.4)\n",
    "plt.title('Rank of Correct Fix')\n",
    "plt.xlabel('Rank')\n",
    "plt.xticks(list(rankOfFix.keys()), ['1','2','No Fix'])\n",
    "plt.yticks([0,10,20,30,40,50,60,70,80,90])\n",
    "plt.ylabel('Number of Appearances');"
   ]
  },
  {
   "cell_type": "code",
   "execution_count": null,
   "metadata": {},
   "outputs": [],
   "source": [
    "scoreReduction = 100*errorFixingStats[errorFixingStats['Score Reduction ( %)'] != 'No Reduction']['Score Reduction ( %)']\n",
    "fig = plt.figure(figsize = [8,6])\n",
    "ax = sns.histplot(x = scoreReduction, bins = [0,5,10,15,20,25,30,35,40,45,50,55,60],kde = True)\n",
    "show_values_on_bars(ax,\"v\",0.1)\n",
    "plt.title('Score Reduction Distribution')\n",
    "plt.ylabel('')\n",
    "plt.xlabel('Score Reduction (%)')\n",
    "plt.xticks([0,5,10,15,20,25,30,35,40,45,50,55,60])\n",
    "plt.yticks([0,5,10,15,20]);\n"
   ]
  },
  {
   "cell_type": "code",
   "execution_count": null,
   "metadata": {},
   "outputs": [],
   "source": [
    "lowerScores = pd.read_csv('LowerScores.csv', names=['Scores'])\n",
    "initialScores = pd.read_csv('InitialScores.csv', names=['InitialScore'])\n",
    "suggFixes = errorFixingStats['Total number of suggested fixed files']\n",
    "fileName = errorFixingStats['File Name']"
   ]
  },
  {
   "cell_type": "code",
   "execution_count": null,
   "metadata": {},
   "outputs": [],
   "source": [
    "fixScoresPerFile = {}\n",
    "initScorePerFile = {}\n",
    "i = 0\n",
    "for num,file in zip(suggFixes,fileName):\n",
    "    fixScoresPerFile.update({file:list(lowerScores['Scores'][i:i+num])})\n",
    "    i += num\n",
    "\n",
    "for initScore,file in zip(initialScores['InitialScore'],fileName):\n",
    "    initScorePerFile.update({file:initScore})"
   ]
  },
  {
   "cell_type": "code",
   "execution_count": null,
   "metadata": {},
   "outputs": [],
   "source": [
    "scoreReduction_noCorrFix = []\n",
    "for fileName in initScorePerFile.keys():\n",
    "    initScore = initScorePerFile.get(fileName)\n",
    "    lowerScores = fixScoresPerFile.get(fileName)\n",
    "    reduction = [100*(initScore - lowerScore)/initScore for lowerScore in lowerScores if lowerScore != min(lowerScores)] \n",
    "    scoreReduction_noCorrFix.extend(reduction)"
   ]
  },
  {
   "cell_type": "code",
   "execution_count": null,
   "metadata": {},
   "outputs": [],
   "source": [
    "fig = plt.figure(figsize = [8,6])\n",
    "ax = sns.histplot(x = scoreReduction_noCorrFix, bins = [0,5,10,15,20,25,30,35,40,45])\n",
    "show_values_on_bars(ax,\"v\",0.1)\n",
    "plt.title('1. Score Reduction Distribution (Suggestions - No Correct Fix)')\n",
    "plt.ylabel('')\n",
    "plt.xlabel('Score Reduction (%)')\n",
    "plt.xticks([0,5,10,15,20,25,30,35,40,45]);"
   ]
  }
 ],
 "metadata": {
  "kernelspec": {
   "display_name": "Python 3",
   "language": "python",
   "name": "python3"
  },
  "language_info": {
   "codemirror_mode": {
    "name": "ipython",
    "version": 3
   },
   "file_extension": ".py",
   "mimetype": "text/x-python",
   "name": "python",
   "nbconvert_exporter": "python",
   "pygments_lexer": "ipython3",
   "version": "3.8.10"
  },
  "orig_nbformat": 4
 },
 "nbformat": 4,
 "nbformat_minor": 2
}
