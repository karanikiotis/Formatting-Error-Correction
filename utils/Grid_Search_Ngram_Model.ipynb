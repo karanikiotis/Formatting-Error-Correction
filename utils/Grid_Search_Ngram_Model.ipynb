{
 "cells": [
  {
   "cell_type": "code",
   "execution_count": null,
   "metadata": {},
   "outputs": [],
   "source": [
    "import sys\n",
    "sys.path.insert(0,'/Users/Shared/c/CodeRepository/Formatting-Error-Correction/')\n",
    "from datetime import datetime\n",
    "from nltk.util import ngrams\n",
    "from nltk.lm.preprocessing import padded_everygram_pipeline, pad_both_ends\n",
    "from nltk.lm import KneserNeyInterpolated\n",
    "from Scripts.S1_Corpus_Bigrams_Occurences import count_occur\n",
    "import seaborn as sns\n",
    "sns.set_theme()\n",
    "sns.set_style(\"whitegrid\",{'axes.grid' : False})\n",
    "import matplotlib.pyplot as plt\n",
    "import matplotlib\n",
    "import numpy as np\n",
    "import pandas as pd\n"
   ]
  },
  {
   "cell_type": "code",
   "execution_count": null,
   "metadata": {},
   "outputs": [],
   "source": [
    "_,trainTok = count_occur('Ngrams_TrainingDataset/Training')\n",
    "_,testTok = count_occur('Ngrams_TrainingDataset/Validation')"
   ]
  },
  {
   "cell_type": "code",
   "execution_count": null,
   "metadata": {},
   "outputs": [],
   "source": [
    "order = [x for x in range(3,11)]\n",
    "meanEntropy = {}\n",
    "entropyScoresPerN = {}"
   ]
  },
  {
   "cell_type": "code",
   "execution_count": null,
   "metadata": {},
   "outputs": [],
   "source": [
    "for ord in order:\n",
    "    print(f'Starting time of training N-gram model with order {ord}: {datetime.now()}')\n",
    "\n",
    "    trainingSet, vocab = padded_everygram_pipeline(ord, trainTok)\n",
    "    kn = KneserNeyInterpolated(ord)\n",
    "    kn.fit(trainingSet, vocab)\n",
    "\n",
    "    # Testing each trained N-gram model\n",
    "    currentScore = []\n",
    "    for testFile in testTok:\n",
    "        currTestPadded = list(pad_both_ends(testFile,n = ord))\n",
    "        currTestFile = list(ngrams(currTestPadded, ord))\n",
    "        crossEntropy = kn.entropy(currTestFile)\n",
    "        currentScore.append(crossEntropy)\n",
    "        \n",
    "    # A dictionary that represents all entropy scores of each file that belongs to test set, per order n.\n",
    "    entropyScoresPerN.update({ord:currentScore})\n",
    "    # A dictionary that represents mean entropy score for all files that belong to test set, per order n.\n",
    "    meanEntropy.update({ord:sum(currentScore)/len(currentScore)})\n",
    "    print(f'N-gram order:{ord}, Avg Score on Test Set:{meanEntropy[ord]}, Time:{datetime.now()}\\n')"
   ]
  },
  {
   "cell_type": "code",
   "execution_count": null,
   "metadata": {},
   "outputs": [],
   "source": [
    "dataDF = pd.read_csv('/Users/Shared/c/CodeRepository/Formatting-Error-Correction/System_Evaluation/TestResults_EntropyScore.csv')"
   ]
  },
  {
   "cell_type": "code",
   "execution_count": null,
   "metadata": {},
   "outputs": [],
   "source": [
    "fig = plt.figure(figsize = [8,6])\n",
    "sns.boxplot(data = dataDF)\n",
    "plt.yticks([0, 0.5, 1, 1.5, 2, 2.5, 3, 3.5, 4, 4.5,5])\n",
    "plt.xlabel('Order of N-gram')\n",
    "plt.ylabel('Cross-Entropy');"
   ]
  },
  {
   "cell_type": "code",
   "execution_count": null,
   "metadata": {},
   "outputs": [],
   "source": [
    "meanEntropy = {}\n",
    "for i in list(dataDF.columns):\n",
    "    meanEntropy.update({int(i):dataDF[i].mean()})\n",
    "\n",
    "X = np.array(list(meanEntropy.keys()))\n",
    "Y = np.array(list(meanEntropy.values()))"
   ]
  },
  {
   "cell_type": "code",
   "execution_count": null,
   "metadata": {},
   "outputs": [],
   "source": [
    "plt.figure(figsize = [8,6])\n",
    "plt.plot(X,Y)\n",
    "plt.xlabel('Order of N-gram')\n",
    "plt.ylabel('Mean Cross-Entropy')\n",
    "plt.yticks([0.6, 0.7, 0.8, 0.9, 1, 1.1, 1.2, 1.3, 1.4, 1.5, 1.6]);"
   ]
  }
 ],
 "metadata": {
  "kernelspec": {
   "display_name": "Python 3",
   "language": "python",
   "name": "python3"
  },
  "language_info": {
   "codemirror_mode": {
    "name": "ipython",
    "version": 3
   },
   "file_extension": ".py",
   "mimetype": "text/x-python",
   "name": "python",
   "nbconvert_exporter": "python",
   "pygments_lexer": "ipython3",
   "version": "3.8.10"
  },
  "orig_nbformat": 4,
  "vscode": {
   "interpreter": {
    "hash": "aee8b7b246df8f9039afb4144a1f6fd8d2ca17a180786b69acc140d282b71a49"
   }
  }
 },
 "nbformat": 4,
 "nbformat_minor": 2
}
